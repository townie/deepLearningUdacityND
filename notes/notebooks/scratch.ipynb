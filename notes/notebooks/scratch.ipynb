{
 "cells": [
  {
   "cell_type": "code",
   "execution_count": 45,
   "metadata": {},
   "outputs": [],
   "source": [
    "\n",
    "def get_point(x1, x2, m1, m2, b):\n",
    "#     print(m1, m2)\n",
    "    return (m1*x1 + m2*x2 + b)"
   ]
  },
  {
   "cell_type": "code",
   "execution_count": 46,
   "metadata": {},
   "outputs": [],
   "source": [
    "m1 = 3\n",
    "m2 = 4\n",
    "b = -10\n",
    "x1 = 1\n",
    "x2 = 1\n",
    "rate = 0.1"
   ]
  },
  {
   "cell_type": "code",
   "execution_count": 47,
   "metadata": {},
   "outputs": [
    {
     "name": "stdout",
     "output_type": "stream",
     "text": [
      "N:0, out: -3.0\n",
      "N:1, out: -2.700000000000001\n",
      "N:2, out: -2.4000000000000004\n",
      "N:3, out: -2.0999999999999996\n",
      "N:4, out: -1.799999999999999\n",
      "N:5, out: -1.5\n",
      "N:6, out: -1.200000000000001\n",
      "N:7, out: -0.9000000000000004\n",
      "N:8, out: -0.5999999999999996\n",
      "N:9, out: -0.29999999999999893\n",
      "N:10, out: 0.0\n",
      "N:11, out: 0.29999999999999893\n",
      "N:12, out: 0.5999999999999996\n",
      "N:13, out: 0.9000000000000004\n",
      "N:14, out: 1.200000000000001\n",
      "N:15, out: 1.5\n",
      "N:16, out: 1.799999999999999\n",
      "N:17, out: 2.0999999999999996\n",
      "N:18, out: 2.4000000000000004\n",
      "N:19, out: 2.700000000000001\n",
      "N:20, out: 3.0\n",
      "N:21, out: 3.299999999999999\n",
      "N:22, out: 3.6000000000000005\n",
      "N:23, out: 3.900000000000002\n",
      "N:24, out: 4.200000000000001\n",
      "N:25, out: 4.5\n",
      "N:26, out: 4.799999999999999\n",
      "N:27, out: 5.1000000000000005\n",
      "N:28, out: 5.400000000000002\n",
      "N:29, out: 5.700000000000001\n",
      "N:30, out: 6.0\n",
      "N:31, out: 6.299999999999999\n",
      "N:32, out: 6.6000000000000005\n",
      "N:33, out: 6.900000000000002\n",
      "N:34, out: 7.200000000000001\n",
      "N:35, out: 7.5\n",
      "N:36, out: 7.799999999999999\n",
      "N:37, out: 8.100000000000001\n",
      "N:38, out: 8.400000000000002\n",
      "N:39, out: 8.700000000000001\n",
      "N:40, out: 9.0\n",
      "N:41, out: 9.300000000000004\n",
      "N:42, out: 9.599999999999998\n",
      "N:43, out: 9.900000000000002\n",
      "N:44, out: 10.200000000000001\n",
      "N:45, out: 10.5\n",
      "N:46, out: 10.800000000000004\n",
      "N:47, out: 11.099999999999998\n",
      "N:48, out: 11.400000000000002\n",
      "N:49, out: 11.700000000000001\n",
      "N:50, out: 12.0\n",
      "N:51, out: 12.300000000000004\n",
      "N:52, out: 12.599999999999998\n",
      "N:53, out: 12.900000000000002\n",
      "N:54, out: 13.200000000000001\n",
      "N:55, out: 13.5\n",
      "N:56, out: 13.800000000000004\n",
      "N:57, out: 14.099999999999998\n",
      "N:58, out: 14.400000000000002\n",
      "N:59, out: 14.700000000000001\n",
      "N:60, out: 15.0\n",
      "N:61, out: 15.300000000000004\n",
      "N:62, out: 15.599999999999998\n",
      "N:63, out: 15.900000000000002\n",
      "N:64, out: 16.200000000000003\n",
      "N:65, out: 16.5\n",
      "N:66, out: 16.800000000000004\n",
      "N:67, out: 17.099999999999998\n",
      "N:68, out: 17.400000000000002\n",
      "N:69, out: 17.700000000000003\n",
      "N:70, out: 18.0\n",
      "N:71, out: 18.300000000000004\n",
      "N:72, out: 18.599999999999998\n",
      "N:73, out: 18.900000000000002\n",
      "N:74, out: 19.200000000000003\n",
      "N:75, out: 19.5\n",
      "N:76, out: 19.800000000000004\n",
      "N:77, out: 20.099999999999998\n",
      "N:78, out: 20.400000000000002\n",
      "N:79, out: 20.700000000000003\n",
      "N:80, out: 21.0\n",
      "N:81, out: 21.299999999999997\n",
      "N:82, out: 21.6\n",
      "N:83, out: 21.900000000000002\n",
      "N:84, out: 22.200000000000003\n",
      "N:85, out: 22.5\n",
      "N:86, out: 22.799999999999997\n",
      "N:87, out: 23.1\n",
      "N:88, out: 23.400000000000002\n",
      "N:89, out: 23.700000000000003\n",
      "N:90, out: 24.0\n",
      "N:91, out: 24.299999999999997\n",
      "N:92, out: 24.6\n",
      "N:93, out: 24.900000000000002\n",
      "N:94, out: 25.200000000000003\n",
      "N:95, out: 25.5\n",
      "N:96, out: 25.800000000000004\n",
      "N:97, out: 26.1\n",
      "N:98, out: 26.400000000000002\n",
      "N:99, out: 26.700000000000003\n"
     ]
    }
   ],
   "source": [
    "for n in range(100):\n",
    "    out =  get_point(x1, x2, (m1 + rate*n) , (m2 + rate*n), (b + rate*n))\n",
    "    print(\"N:{}, out: {}\".format(n, out))"
   ]
  },
  {
   "cell_type": "code",
   "execution_count": 48,
   "metadata": {},
   "outputs": [],
   "source": [
    "import math\n",
    "\n",
    "def sigmoid(x):\n",
    "  return 1 / (1 + math.exp(-x))"
   ]
  },
  {
   "cell_type": "code",
   "execution_count": 55,
   "metadata": {},
   "outputs": [
    {
     "data": {
      "text/plain": [
       "True"
      ]
     },
     "execution_count": 55,
     "metadata": {},
     "output_type": "execute_result"
    }
   ],
   "source": []
  },
  {
   "cell_type": "code",
   "execution_count": 59,
   "metadata": {},
   "outputs": [
    {
     "name": "stdout",
     "output_type": "stream",
     "text": [
      "-4\n",
      "5\n"
     ]
    },
    {
     "data": {
      "text/plain": [
       "0.5"
      ]
     },
     "execution_count": 59,
     "metadata": {},
     "output_type": "execute_result"
    }
   ],
   "source": [
    "x1 = -4\n",
    "x2 = 5\n",
    "print(x1)\n",
    "print(x2)\n",
    "sigmoid(4* x1 + 5* x2 - 9) "
   ]
  },
  {
   "cell_type": "code",
   "execution_count": null,
   "metadata": {},
   "outputs": [],
   "source": []
  }
 ],
 "metadata": {
  "kernelspec": {
   "display_name": "Python 3",
   "language": "python",
   "name": "python3"
  },
  "language_info": {
   "codemirror_mode": {
    "name": "ipython",
    "version": 3
   },
   "file_extension": ".py",
   "mimetype": "text/x-python",
   "name": "python",
   "nbconvert_exporter": "python",
   "pygments_lexer": "ipython3",
   "version": "3.5.2"
  }
 },
 "nbformat": 4,
 "nbformat_minor": 2
}
